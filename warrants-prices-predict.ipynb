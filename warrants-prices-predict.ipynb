{
 "cells": [
  {
   "cell_type": "markdown",
   "metadata": {},
   "source": [
    "### SPAC Commons and Warrant Prices\n",
    "\n",
    "The aim of this work is to predict how much a SPAC warrant will be priced as compared to its common share. This is done taking the May 8th market price of a few dozen SPACs and plotting them. A linear regression calculation fits a line between all samples to reveal the trend. \n",
    "\n",
    "All price samples are documented in `prices.csv` spreadsheet.\n",
    "\n",
    "It's important to remind ourselves that \"Past performance is no guarantee of future results.\" That said, we can use this data analysis to inform price-targets as we grow and maintain our portfolio.\n",
    "\n",
    "_NOTE:_ Another goal of mine in making this is a practical application of machine learning R&D. This is simple, but it's useful!"
   ]
  },
  {
   "cell_type": "code",
   "execution_count": 1,
   "metadata": {},
   "outputs": [],
   "source": [
    "import matplotlib.pyplot as plt\n",
    "import numpy as np\n",
    "import pandas as pd\n",
    "\n",
    "from sklearn.linear_model import LinearRegression\n",
    "from scipy.stats import linregress\n",
    "from matplotlib.dates import DateFormatter\n",
    "from datetime import datetime, date, time, timedelta"
   ]
  },
  {
   "cell_type": "code",
   "execution_count": 2,
   "metadata": {},
   "outputs": [],
   "source": [
    "%matplotlib inline"
   ]
  },
  {
   "cell_type": "markdown",
   "metadata": {},
   "source": [
    "Read in the spreadsheet recording stock ticker symbols, commons price, and warrants price."
   ]
  },
  {
   "cell_type": "code",
   "execution_count": 3,
   "metadata": {},
   "outputs": [],
   "source": [
    "stock_price_data = pd.read_csv(\"./prices.csv\", sep=\",\")"
   ]
  },
  {
   "cell_type": "markdown",
   "metadata": {},
   "source": [
    "Debug: print the **last few rows** of the stock price data to simply inspect the spreadsheet"
   ]
  },
  {
   "cell_type": "code",
   "execution_count": 4,
   "metadata": {},
   "outputs": [
    {
     "data": {
      "text/html": [
       "<div>\n",
       "<style scoped>\n",
       "    .dataframe tbody tr th:only-of-type {\n",
       "        vertical-align: middle;\n",
       "    }\n",
       "\n",
       "    .dataframe tbody tr th {\n",
       "        vertical-align: top;\n",
       "    }\n",
       "\n",
       "    .dataframe thead th {\n",
       "        text-align: right;\n",
       "    }\n",
       "</style>\n",
       "<table border=\"1\" class=\"dataframe\">\n",
       "  <thead>\n",
       "    <tr style=\"text-align: right;\">\n",
       "      <th></th>\n",
       "      <th>ticker</th>\n",
       "      <th>commons_price</th>\n",
       "      <th>warrant_price</th>\n",
       "    </tr>\n",
       "  </thead>\n",
       "  <tbody>\n",
       "    <tr>\n",
       "      <th>25</th>\n",
       "      <td>srng</td>\n",
       "      <td>10.07</td>\n",
       "      <td>2.30</td>\n",
       "    </tr>\n",
       "    <tr>\n",
       "      <th>26</th>\n",
       "      <td>sspk</td>\n",
       "      <td>15.92</td>\n",
       "      <td>5.22</td>\n",
       "    </tr>\n",
       "    <tr>\n",
       "      <th>27</th>\n",
       "      <td>tekk</td>\n",
       "      <td>9.90</td>\n",
       "      <td>1.02</td>\n",
       "    </tr>\n",
       "    <tr>\n",
       "      <th>28</th>\n",
       "      <td>thcb</td>\n",
       "      <td>12.12</td>\n",
       "      <td>3.00</td>\n",
       "    </tr>\n",
       "    <tr>\n",
       "      <th>29</th>\n",
       "      <td>tpgy</td>\n",
       "      <td>15.46</td>\n",
       "      <td>5.01</td>\n",
       "    </tr>\n",
       "    <tr>\n",
       "      <th>30</th>\n",
       "      <td>vgac</td>\n",
       "      <td>9.95</td>\n",
       "      <td>1.45</td>\n",
       "    </tr>\n",
       "    <tr>\n",
       "      <th>31</th>\n",
       "      <td>vygg</td>\n",
       "      <td>10.00</td>\n",
       "      <td>2.06</td>\n",
       "    </tr>\n",
       "  </tbody>\n",
       "</table>\n",
       "</div>"
      ],
      "text/plain": [
       "   ticker  commons_price  warrant_price\n",
       "25   srng          10.07           2.30\n",
       "26   sspk          15.92           5.22\n",
       "27   tekk           9.90           1.02\n",
       "28   thcb          12.12           3.00\n",
       "29   tpgy          15.46           5.01\n",
       "30   vgac           9.95           1.45\n",
       "31   vygg          10.00           2.06"
      ]
     },
     "execution_count": 4,
     "metadata": {},
     "output_type": "execute_result"
    }
   ],
   "source": [
    "stock_price_data.tail(7)"
   ]
  },
  {
   "cell_type": "markdown",
   "metadata": {},
   "source": [
    "Find the **lowest cost** warrant and print out that row of pricing data."
   ]
  },
  {
   "cell_type": "code",
   "execution_count": 5,
   "metadata": {},
   "outputs": [
    {
     "name": "stdout",
     "output_type": "stream",
     "text": [
      "ticker           gnrs\n",
      "commons_price      10\n",
      "warrant_price    0.71\n",
      "Name: 13, dtype: object\n"
     ]
    }
   ],
   "source": [
    "min_cost_row_index = stock_price_data.warrant_price.idxmin()\n",
    "print(stock_price_data.iloc[min_cost_row_index])"
   ]
  },
  {
   "cell_type": "markdown",
   "metadata": {},
   "source": [
    "Find the **highest cost** warrant and print out that row of pricing data."
   ]
  },
  {
   "cell_type": "code",
   "execution_count": 6,
   "metadata": {},
   "outputs": [
    {
     "name": "stdout",
     "output_type": "stream",
     "text": [
      "ticker            chpt\n",
      "commons_price    22.63\n",
      "warrant_price    11.11\n",
      "Name: 5, dtype: object\n"
     ]
    }
   ],
   "source": [
    "max_cost_row_index = stock_price_data.warrant_price.idxmax()\n",
    "print(stock_price_data.iloc[max_cost_row_index])"
   ]
  },
  {
   "cell_type": "markdown",
   "metadata": {},
   "source": [
    "Find the **Top-10 most expensive** warrants and print out their rows of pricing data."
   ]
  },
  {
   "cell_type": "code",
   "execution_count": 7,
   "metadata": {},
   "outputs": [
    {
     "data": {
      "text/html": [
       "<div>\n",
       "<style scoped>\n",
       "    .dataframe tbody tr th:only-of-type {\n",
       "        vertical-align: middle;\n",
       "    }\n",
       "\n",
       "    .dataframe tbody tr th {\n",
       "        vertical-align: top;\n",
       "    }\n",
       "\n",
       "    .dataframe thead th {\n",
       "        text-align: right;\n",
       "    }\n",
       "</style>\n",
       "<table border=\"1\" class=\"dataframe\">\n",
       "  <thead>\n",
       "    <tr style=\"text-align: right;\">\n",
       "      <th></th>\n",
       "      <th>ticker</th>\n",
       "      <th>commons_price</th>\n",
       "      <th>warrant_price</th>\n",
       "    </tr>\n",
       "  </thead>\n",
       "  <tbody>\n",
       "    <tr>\n",
       "      <th>5</th>\n",
       "      <td>chpt</td>\n",
       "      <td>22.63</td>\n",
       "      <td>11.11</td>\n",
       "    </tr>\n",
       "    <tr>\n",
       "      <th>4</th>\n",
       "      <td>cciv</td>\n",
       "      <td>19.33</td>\n",
       "      <td>8.37</td>\n",
       "    </tr>\n",
       "    <tr>\n",
       "      <th>17</th>\n",
       "      <td>muds</td>\n",
       "      <td>16.54</td>\n",
       "      <td>6.60</td>\n",
       "    </tr>\n",
       "    <tr>\n",
       "      <th>2</th>\n",
       "      <td>arvl</td>\n",
       "      <td>18.52</td>\n",
       "      <td>6.24</td>\n",
       "    </tr>\n",
       "    <tr>\n",
       "      <th>16</th>\n",
       "      <td>ipoe</td>\n",
       "      <td>16.65</td>\n",
       "      <td>5.32</td>\n",
       "    </tr>\n",
       "    <tr>\n",
       "      <th>26</th>\n",
       "      <td>sspk</td>\n",
       "      <td>15.92</td>\n",
       "      <td>5.22</td>\n",
       "    </tr>\n",
       "    <tr>\n",
       "      <th>18</th>\n",
       "      <td>nga</td>\n",
       "      <td>16.17</td>\n",
       "      <td>5.03</td>\n",
       "    </tr>\n",
       "    <tr>\n",
       "      <th>29</th>\n",
       "      <td>tpgy</td>\n",
       "      <td>15.46</td>\n",
       "      <td>5.01</td>\n",
       "    </tr>\n",
       "    <tr>\n",
       "      <th>0</th>\n",
       "      <td>actc</td>\n",
       "      <td>15.58</td>\n",
       "      <td>4.45</td>\n",
       "    </tr>\n",
       "    <tr>\n",
       "      <th>7</th>\n",
       "      <td>cmlf</td>\n",
       "      <td>12.07</td>\n",
       "      <td>3.77</td>\n",
       "    </tr>\n",
       "  </tbody>\n",
       "</table>\n",
       "</div>"
      ],
      "text/plain": [
       "   ticker  commons_price  warrant_price\n",
       "5    chpt          22.63          11.11\n",
       "4    cciv          19.33           8.37\n",
       "17   muds          16.54           6.60\n",
       "2    arvl          18.52           6.24\n",
       "16   ipoe          16.65           5.32\n",
       "26   sspk          15.92           5.22\n",
       "18    nga          16.17           5.03\n",
       "29   tpgy          15.46           5.01\n",
       "0    actc          15.58           4.45\n",
       "7    cmlf          12.07           3.77"
      ]
     },
     "execution_count": 7,
     "metadata": {},
     "output_type": "execute_result"
    }
   ],
   "source": [
    "stock_price_expense_sorted = stock_price_data.sort_values(\"warrant_price\", ascending = False)\n",
    "stock_price_expense_sorted.head(10)"
   ]
  },
  {
   "cell_type": "markdown",
   "metadata": {
    "tags": []
   },
   "source": [
    "Render a graph showing the stock price of its warrants as compared to its commons. Data sample is from May 8th 2021. Let's get a feel of how SPAC prices **relate** to one another. \n",
    "\n",
    "Look for the red line. It's a linear regression solution showing the best-fit curve between all known sample points. We can estimate a _warrants_ price for any _commons_ price according to that line."
   ]
  },
  {
   "cell_type": "code",
   "execution_count": 8,
   "metadata": {},
   "outputs": [
    {
     "data": {
      "image/png": "[encoded data removed]",
      "text/plain": [
       "<Figure size 1080x720 with 1 Axes>"
      ]
     },
     "metadata": {
      "needs_background": "light"
     },
     "output_type": "display_data"
    }
   ],
   "source": [
    "x = stock_price_data.commons_price\n",
    "y = stock_price_data.warrant_price\n",
    "\n",
    "plt.figure(figsize=(15,10))\n",
    "plt.title('SPAC Prices (May 8th 2021)', fontsize = 28)\n",
    "plt.xlabel('Commons Price', fontsize = 24)\n",
    "plt.ylabel('Warrants Price', fontsize = 24)\n",
    "plt.xticks(np.arange(min(x), max(x) + 1, 1.0))\n",
    "plt.yticks(np.arange(min(y), max(y) + 1, 1.0))\n",
    "\n",
    "stats = linregress(x, y)\n",
    "m = stats.slope\n",
    "b = stats.intercept\n",
    "plt.plot(x, m * x + b, color = \"#E02010\", linewidth = 2)\n",
    "\n",
    "plt.scatter(x, y)\n",
    "\n",
    "for i, label in enumerate(stock_price_data.ticker):\n",
    "    plt.annotate(label, (x[i], y[i]), fontsize = 16)\n",
    "\n",
    "plt.show()\n"
   ]
  },
  {
   "cell_type": "markdown",
   "metadata": {},
   "source": [
    "Use a Linear Regression algorithm from the SKLearn library training it on the given stock price data. This is crucial because we can estimate any warrants price resulting from the commons price. \n",
    "\n",
    "_Note:_ Your most valuable part of this project is found when you leverage the input area below to exercise the trained model."
   ]
  },
  {
   "cell_type": "code",
   "execution_count": 9,
   "metadata": {},
   "outputs": [
    {
     "data": {
      "text/plain": [
       "LinearRegression()"
      ]
     },
     "execution_count": 9,
     "metadata": {},
     "output_type": "execute_result"
    }
   ],
   "source": [
    "warrants_model = LinearRegression()\n",
    "\n",
    "commons_x_train = np.array(x).reshape((-1, 1))\n",
    "warrants_y_train = np.array(y).reshape((-1, 1))\n",
    "\n",
    "warrants_model.fit(commons_x_train, warrants_y_train)"
   ]
  },
  {
   "cell_type": "markdown",
   "metadata": {
    "tags": []
   },
   "source": [
    "**Best Value** of this project is setting the `commons_target_price` variable below, and re-running that code section. See the final _output_ below of `warrants_predicted_price`."
   ]
  },
  {
   "cell_type": "code",
   "execution_count": 11,
   "metadata": {},
   "outputs": [
    {
     "name": "stdout",
     "output_type": "stream",
     "text": [
      "commons price[18.52] will produce warrants price [7.289604207782276]\n"
     ]
    }
   ],
   "source": [
    "commons_target_price = 18.52\n",
    "warrants_predicted_price = warrants_model.predict([[commons_target_price]])\n",
    "\n",
    "print(f\"commons price[{commons_target_price}] will produce warrants price [{warrants_predicted_price[0][0]}]\")"
   ]
  },
  {
   "cell_type": "code",
   "execution_count": null,
   "metadata": {},
   "outputs": [],
   "source": []
  }
 ],
 "metadata": {
  "kernelspec": {
   "display_name": "Python 3",
   "language": "python",
   "name": "python3"
  },
  "language_info": {
   "codemirror_mode": {
    "name": "ipython",
    "version": 3
   },
   "file_extension": ".py",
   "mimetype": "text/x-python",
   "name": "python",
   "nbconvert_exporter": "python",
   "pygments_lexer": "ipython3",
   "version": "3.7.0"
  }
 },
 "nbformat": 4,
 "nbformat_minor": 4
}
